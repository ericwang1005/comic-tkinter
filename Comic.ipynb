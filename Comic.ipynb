{
 "cells": [
  {
   "cell_type": "code",
   "execution_count": 1,
   "metadata": {},
   "outputs": [],
   "source": [
    "from tools import get_chrome,getSoup\n",
    "from bs4 import BeautifulSoup\n",
    "from selenium.webdriver.common.by import By\n",
    "\n",
    "import time\n",
    "import requests\n",
    "import io"
   ]
  },
  {
   "cell_type": "code",
   "execution_count": 2,
   "metadata": {},
   "outputs": [],
   "source": [
    "#url = 'https://777tv.ai/'\n",
    "url = 'https://www.manhuaren.com/search/'"
   ]
  },
  {
   "cell_type": "code",
   "execution_count": 5,
   "metadata": {},
   "outputs": [],
   "source": [
    "chrome = get_chrome(url)"
   ]
  },
  {
   "cell_type": "markdown",
   "metadata": {},
   "source": [
    "### 先獲取頁面的Quick Picks當作預覽的音樂"
   ]
  },
  {
   "cell_type": "markdown",
   "metadata": {},
   "source": [
    "soup = BeautifulSoup(chrome.page_source)"
   ]
  },
  {
   "cell_type": "markdown",
   "metadata": {},
   "source": [
    "content = soup.find(id='items-wrapper').find_all('ytmusic-responsive-list-item-renderer')"
   ]
  },
  {
   "cell_type": "markdown",
   "metadata": {},
   "source": [
    "next_page_xpath = '/html/body/ytmusic-app/ytmusic-app-layout/div[5]/ytmusic-browse-response/div[2]/div[4]/ytmusic-section-list-renderer/div[2]/ytmusic-carousel-shelf-renderer[1]/div/div/div/tp-yt-paper-icon-button[2]'"
   ]
  },
  {
   "cell_type": "markdown",
   "metadata": {},
   "source": [
    "next_page_btn = chrome.find_element(By.XPATH,next_page_xpath).click()"
   ]
  },
  {
   "cell_type": "markdown",
   "metadata": {},
   "source": [
    "### 獲取標題，作者，專輯名稱，連結，圖片"
   ]
  },
  {
   "cell_type": "markdown",
   "metadata": {
    "scrolled": true
   },
   "source": [
    "content[0].find('img').get('src')"
   ]
  },
  {
   "cell_type": "markdown",
   "metadata": {
    "scrolled": true
   },
   "source": [
    "url+content[0].find('a').get('href')"
   ]
  },
  {
   "cell_type": "markdown",
   "metadata": {},
   "source": [
    "title= content[0].text.strip().split('\\n')[0]\n",
    "title"
   ]
  },
  {
   "cell_type": "markdown",
   "metadata": {},
   "source": [
    "artist= content[0].text.strip().split('\\n')[-2]\n",
    "artist"
   ]
  },
  {
   "cell_type": "markdown",
   "metadata": {},
   "source": [
    "album= content[0].text.strip().split('\\n')[-1]\n",
    "album"
   ]
  },
  {
   "cell_type": "markdown",
   "metadata": {},
   "source": [
    "datas=[]\n",
    "for music_info in content:\n",
    "    title= music_info.text.strip().split('\\n')[0]\n",
    "    artist= music_info.text.strip().split('\\n')[-2]\n",
    "    album= music_info.text.strip().split('\\n')[-1]\n",
    "    music_url =url+music_info.find('a').get('href')\n",
    "    img_url = music_info.find('img').get('src')\n",
    "    datas.append([title,artist,album,music_url,img_url])\n",
    "    \n",
    "datas"
   ]
  },
  {
   "cell_type": "markdown",
   "metadata": {
    "scrolled": true
   },
   "source": [
    "df = pd.DataFrame(datas,columns=['title','artist','album','music_url','img_url'])\n",
    "df"
   ]
  },
  {
   "cell_type": "code",
   "execution_count": 89,
   "metadata": {},
   "outputs": [],
   "source": [
    "def quick_pick_music_info(url):\n",
    "    datas=[]\n",
    "    chrome = get_chrome(url)\n",
    "    next_page_xpath = '/html/body/ytmusic-app/ytmusic-app-layout/div[5]/ytmusic-browse-response/div[2]/div[4]/ytmusic-section-list-renderer/div[2]/ytmusic-carousel-shelf-renderer[1]/div/div/div/tp-yt-paper-icon-button[2]'\n",
    "    next_page_btn = chrome.find_element(By.XPATH,next_page_xpath).click()\n",
    "    soup = BeautifulSoup(chrome.page_source)\n",
    "    if soup != None:\n",
    "        content = soup.find(id='items-wrapper').find_all('ytmusic-responsive-list-item-renderer')\n",
    "    try:\n",
    "        for music_info in content:\n",
    "            title= music_info.text.strip().split('\\n')[0]\n",
    "            artist= music_info.text.strip().split('\\n')[-2]\n",
    "            album= music_info.text.strip().split('\\n')[-1]\n",
    "            music_url =url+music_info.find('a').get('href')\n",
    "            img_url = music_info.find('img').get('src')\n",
    "            datas.append([title,artist,album,music_url,img_url])\n",
    "    except Exception as e:\n",
    "        print(e)\n",
    "    finally:\n",
    "        if chrome != None:\n",
    "            chrome.close()\n",
    "    return datas"
   ]
  },
  {
   "cell_type": "markdown",
   "metadata": {},
   "source": [
    "all_music=[]\n",
    "for i in range(1):\n",
    "    url = 'https://music.youtube.com/'\n",
    "    chrome = get_chrome(url)\n",
    "    if chrome != None:\n",
    "        try:\n",
    "            music = list(quick_pick_music_info(url))\n",
    "            if music != None:\n",
    "                all_music+=music\n",
    "        except Exception as e:\n",
    "            print(e)\n",
    "        finally:\n",
    "            if chrome != None:\n",
    "                chrome.close()\n",
    "    time.sleep(1)\n",
    "all_music"
   ]
  },
  {
   "cell_type": "markdown",
   "metadata": {},
   "source": [
    "datas = quick_pick_music_info(url)"
   ]
  },
  {
   "cell_type": "markdown",
   "metadata": {},
   "source": [
    "for data in datas:\n",
    "    print(data[4])"
   ]
  },
  {
   "cell_type": "markdown",
   "metadata": {},
   "source": [
    "pip install tkhtmlview"
   ]
  },
  {
   "cell_type": "code",
   "execution_count": 10,
   "metadata": {},
   "outputs": [],
   "source": [
    "comic_xpath = '/html/body/div[1]/div/div[2]/ul/li[4]/a'"
   ]
  },
  {
   "cell_type": "code",
   "execution_count": 11,
   "metadata": {},
   "outputs": [],
   "source": [
    "chrome.find_element(By.XPATH,comic_xpath).click()"
   ]
  },
  {
   "cell_type": "code",
   "execution_count": 12,
   "metadata": {},
   "outputs": [],
   "source": [
    "soup = BeautifulSoup(chrome.page_source,'lxml')"
   ]
  },
  {
   "cell_type": "code",
   "execution_count": 14,
   "metadata": {},
   "outputs": [],
   "source": [
    "content= soup.find('ul',class_=\"stui-vodlist clearfix\").findAll('li')"
   ]
  },
  {
   "cell_type": "code",
   "execution_count": 54,
   "metadata": {},
   "outputs": [],
   "source": [
    "title = [title.text.strip() for title in content[0]][-2]"
   ]
  },
  {
   "cell_type": "code",
   "execution_count": 49,
   "metadata": {},
   "outputs": [],
   "source": [
    "v_link = url+content[0].find('a').get('href')"
   ]
  },
  {
   "cell_type": "code",
   "execution_count": 50,
   "metadata": {},
   "outputs": [],
   "source": [
    "new_update =[latest_video.text.strip() for latest_video in content[0]][1]"
   ]
  },
  {
   "cell_type": "code",
   "execution_count": 51,
   "metadata": {},
   "outputs": [],
   "source": [
    "img_url =content[0].find('a').get('data-original')"
   ]
  },
  {
   "cell_type": "code",
   "execution_count": 57,
   "metadata": {},
   "outputs": [],
   "source": [
    "datas = []\n",
    "for video in content:\n",
    "    title = [title.text.strip() for title in video][-2]\n",
    "    new_update =[latest_video.text.strip() for latest_video in video][1]\n",
    "    v_link = url+video.find('a').get('href')\n",
    "    img_url =video.find('a').get('data-original')\n",
    "    datas.append([title,new_update,v_link,img_url])"
   ]
  },
  {
   "cell_type": "code",
   "execution_count": 59,
   "metadata": {},
   "outputs": [
    {
     "data": {
      "text/plain": [
       "24"
      ]
     },
     "execution_count": 59,
     "metadata": {},
     "output_type": "execute_result"
    }
   ],
   "source": [
    "len(datas)"
   ]
  },
  {
   "cell_type": "code",
   "execution_count": 95,
   "metadata": {},
   "outputs": [],
   "source": [
    "def quick_pick_video(url):\n",
    "    datas=[]\n",
    "    chrome = get_chrome(url)\n",
    "    soup = BeautifulSoup(chrome.page_source)\n",
    "    if soup != None:\n",
    "        content= soup.find('ul',class_=\"stui-vodlist clearfix\").findAll('li')\n",
    "    try:\n",
    "        for video in content:\n",
    "            title = [title.text.strip() for title in video][-2]\n",
    "            new_update =[latest_video.text.strip() for latest_video in video][1]\n",
    "            v_link = url+video.find('a').get('href')\n",
    "            img_url =video.find('a').get('data-original')\n",
    "            datas.append([title,new_update,v_link,img_url])\n",
    "    except Exception as e:\n",
    "        print(e)\n",
    "    finally:\n",
    "        if chrome != None:\n",
    "            chrome.close()\n",
    "    return datas"
   ]
  },
  {
   "cell_type": "code",
   "execution_count": 3,
   "metadata": {},
   "outputs": [],
   "source": [
    "def quick_pick_comic(url):\n",
    "    datas=[]\n",
    "    chrome = get_chrome(url)\n",
    "    comic_xpath = '/html/body/ul[1]/li[1]/a'\n",
    "    chrome.find_element(By.XPATH,comic_xpath).click()\n",
    "    soup = BeautifulSoup(chrome.page_source,'lxml')\n",
    "    if soup != None:\n",
    "        content= soup.find('ul',class_=\"manga-list-2\").findAll('li')\n",
    "    try:\n",
    "        for comic in content:\n",
    "            title = [title.text.strip() for title in comic][3]\n",
    "            new_update = [title.text.strip() for title in comic][-2]\n",
    "            comic_url = 'https://www.manhuaren.com'+comic.find('a').get('href')\n",
    "            img_url =comic.find('img').get('src')\n",
    "            datas.append([title,new_update,comic_url,img_url])\n",
    "    except Exception as e:\n",
    "        print(e)\n",
    "    finally:\n",
    "        if chrome != None:\n",
    "            chrome.close()\n",
    "    return datas"
   ]
  },
  {
   "cell_type": "code",
   "execution_count": 137,
   "metadata": {},
   "outputs": [],
   "source": [
    "chrome = get_chrome(url)\n",
    "comic_xpath = '/html/body/ul[1]/li[1]/a'\n",
    "chrome.find_element(By.XPATH,comic_xpath).click()\n",
    "soup = BeautifulSoup(chrome.page_source,'lxml')\n",
    "content= soup.find('ul',class_=\"manga-list-2\").findAll('li')\n"
   ]
  },
  {
   "cell_type": "code",
   "execution_count": 111,
   "metadata": {},
   "outputs": [],
   "source": [
    "title = [title.text.strip() for title in content[0]][3]"
   ]
  },
  {
   "cell_type": "code",
   "execution_count": 112,
   "metadata": {},
   "outputs": [],
   "source": [
    "new_update = [title.text.strip() for title in content[0]][-2]"
   ]
  },
  {
   "cell_type": "code",
   "execution_count": 117,
   "metadata": {},
   "outputs": [],
   "source": [
    "comic_url = 'https://www.manhuaren.com'+content[0].find('a').get('href')"
   ]
  },
  {
   "cell_type": "code",
   "execution_count": 119,
   "metadata": {},
   "outputs": [],
   "source": [
    "img_url =content[0].find('img').get('src')"
   ]
  },
  {
   "cell_type": "code",
   "execution_count": 17,
   "metadata": {
    "collapsed": true
   },
   "outputs": [
    {
     "data": {
      "text/plain": [
       "[['葬送的芙莉莲',\n",
       "  '最新 第116话',\n",
       "  'https://www.manhuaren.com/manhua-zangsongdefulilian/?from=/manhua-list/',\n",
       "  'https://mhfm1us.cdndm5.com/60/59383/20200428102405_180x240_21.jpg'],\n",
       " ['咒术回战',\n",
       "  '最新 第240话',\n",
       "  'https://www.manhuaren.com/manhua-zhoushuhuizhan/?from=/manhua-list/',\n",
       "  'https://mhfm1us.cdndm5.com/42/41957/20190701151032_180x240_19.jpg'],\n",
       " ['一拳超人',\n",
       "  '最新 第240话',\n",
       "  'https://www.manhuaren.com/manhua-yiquanchaoren/?from=/manhua-list/',\n",
       "  'https://mhfm9us.cdndm5.com/11/10684/20180919203310_180x240_27.jpg'],\n",
       " ['不死+不幸',\n",
       "  '最新 第181话',\n",
       "  'https://www.manhuaren.com/manhua-busi-buxing/?from=/manhua-list/',\n",
       "  'https://mhfm4us.cdndm5.com/49/48071/20190217192632_180x240_22.jpg'],\n",
       " ['香格里拉·弗陇提亚~屎作猎人向神作发起挑战~',\n",
       "  '最新 第153话',\n",
       "  'https://www.manhuaren.com/manhua-xianggelila-fulongtiya-shizuolierenxiangshenzuofaqitiaozhan/?from=/manhua-list/',\n",
       "  'https://mhfm8us.cdndm5.com/62/61512/20220414102028_180x240_26.jpg'],\n",
       " ['禽兽们的时间～狂依存症候群',\n",
       "  '最新 第35话',\n",
       "  'https://www.manhuaren.com/manhua-qinshoumendeshijian-kuangyicunzhenghouqun/?from=/manhua-list/',\n",
       "  'https://mhfm9us.cdndm5.com/67/66016/20210116103842_180x240_27.jpg'],\n",
       " ['终末的女武神',\n",
       "  '最新 第83话',\n",
       "  'https://www.manhuaren.com/manhua-zhongmodenvwushen/?from=/manhua-list/',\n",
       "  'https://mhfm9us.cdndm5.com/49/48139/20190523002452_180x240_27.jpg'],\n",
       " ['药屋少女的呢喃',\n",
       "  '最新 第64.5话',\n",
       "  'https://www.manhuaren.com/manhua-yaowushaonvdenenan/?from=/manhua-list/',\n",
       "  'https://mhfm4us.cdndm5.com/38/37042/20170621084605_180x240_23.jpg'],\n",
       " ['间谍过家家',\n",
       "  '最新 第89话',\n",
       "  'https://www.manhuaren.com/manhua-jiandieguojiajia/?from=/manhua-list/',\n",
       "  'https://mhfm6us.cdndm5.com/50/49023/20190723094640_180x240_13.jpg'],\n",
       " ['我的英雄学院',\n",
       "  '最新 第405话',\n",
       "  'https://www.manhuaren.com/manhua-wodeyingxiongxueyuan/?from=/manhua-list/',\n",
       "  'https://mhfm4us.cdndm5.com/16/15841/20200617094626_180x240_25.jpg'],\n",
       " ['4000年后重生异世界的大魔导师',\n",
       "  '最新 第188话',\n",
       "  'https://www.manhuaren.com/manhua-4000-nianhouchongshengyishijiededamodaoshi/?from=/manhua-list/',\n",
       "  'https://mhfm4us.cdndm5.com/85/84650/20231017234738_180x240_14.jpg'],\n",
       " ['归还者的魔法要特别',\n",
       "  '最新 第234话',\n",
       "  'https://www.manhuaren.com/manhua-guihaizhedemofayaotebie/?from=/manhua-list/',\n",
       "  'https://mhfm4us.cdndm5.com/83/82355/20221108113109_180x240_9.jpg'],\n",
       " ['主任的雄性大奶子，可以让我揉揉吗',\n",
       "  '最新 第3话',\n",
       "  'https://www.manhuaren.com/manhua-zhurendexiongxingdanaizi-keyirangworourouma/?from=/manhua-list/',\n",
       "  'https://mhfm3us.cdndm5.com/66/65648/20210102161356_180x240_21.jpg'],\n",
       " ['转生高等精灵慢生活了120年后厌倦了',\n",
       "  '最新 第16话',\n",
       "  'https://www.manhuaren.com/manhua-zhuanshenggaodengjinglingmanshenghuole-120-nianhouyanjuanle/?from=/manhua-list/',\n",
       "  'https://mhfm6us.cdndm5.com/85/84689/20231030095516_180x240_22.jpg'],\n",
       " ['电锯人',\n",
       "  '最新 第147话',\n",
       "  'https://www.manhuaren.com/manhua-dianjuren/?from=/manhua-list/',\n",
       "  'https://mhfm3us.cdndm5.com/47/46568/20190708225456_180x240_20.jpg'],\n",
       " ['海贼王',\n",
       "  '最新 第1096话',\n",
       "  'https://www.manhuaren.com/manhua-haizeiwang-onepiece/?from=/manhua-list/',\n",
       "  'https://mhfm5us.cdndm5.com/1/432/20190719155618_180x240_21.jpeg'],\n",
       " ['坂本 DAYS',\n",
       "  '最新 第2卷',\n",
       "  'https://www.manhuaren.com/manhua-banben-days/?from=/manhua-list/',\n",
       "  'https://mhfm3us.cdndm5.com/65/64648/20201126095917_180x240_25.jpg'],\n",
       " ['被追放的转生重骑士用游戏知识开无双',\n",
       "  '最新 第71话',\n",
       "  'https://www.manhuaren.com/manhua-beizhuifangdezhuanshengchongqishiyongyouxizhishikaiwushuang/?from=/manhua-list/',\n",
       "  'https://mhfm1us.cdndm5.com/82/81521/20221005114904_180x240_21.jpg'],\n",
       " ['超自然武裝噹哒噹',\n",
       "  '最新 第127话',\n",
       "  'https://www.manhuaren.com/manhua-chaoziranwuzhuangdangdadang/?from=/manhua-list/',\n",
       "  'https://mhfm1us.cdndm5.com/68/67946/20210409104336_180x240_17.jpg'],\n",
       " ['妖精的尾巴 百年任务',\n",
       "  '最新 第145话',\n",
       "  'https://www.manhuaren.com/manhua-yaojingdeweiba-bainianrenwu/?from=/manhua-list/',\n",
       "  'https://mhfm9us.cdndm5.com/44/43567/20180729092036_180x240_28.jpg'],\n",
       " ['保健室的秘密',\n",
       "  '完结 番外',\n",
       "  'https://www.manhuaren.com/manhua-baojianshidemimi4/?from=/manhua-list/',\n",
       "  'https://mhfm8us.cdndm5.com/47/46110/20181107101201_180x240_18.jpg']]"
      ]
     },
     "execution_count": 17,
     "metadata": {},
     "output_type": "execute_result"
    }
   ],
   "source": [
    "datas = quick_pick_comic(url)\n"
   ]
  },
  {
   "cell_type": "code",
   "execution_count": 27,
   "metadata": {},
   "outputs": [
    {
     "ename": "TypeError",
     "evalue": "unhashable type: 'list'",
     "output_type": "error",
     "traceback": [
      "\u001b[0;31m------------------------------------------------------------------------\u001b[0m",
      "\u001b[0;31mTypeError\u001b[0m                              Traceback (most recent call last)",
      "\u001b[0;32m<ipython-input-27-97a06d3e1408>\u001b[0m in \u001b[0;36m<module>\u001b[0;34m\u001b[0m\n\u001b[1;32m      1\u001b[0m \u001b[0mcomics\u001b[0m \u001b[0;34m=\u001b[0m \u001b[0;34m{\u001b[0m\u001b[0;34m}\u001b[0m\u001b[0;34m\u001b[0m\u001b[0;34m\u001b[0m\u001b[0m\n\u001b[1;32m      2\u001b[0m \u001b[0;32mfor\u001b[0m \u001b[0mdata\u001b[0m \u001b[0;32min\u001b[0m \u001b[0mdatas\u001b[0m\u001b[0;34m:\u001b[0m\u001b[0;34m\u001b[0m\u001b[0;34m\u001b[0m\u001b[0m\n\u001b[0;32m----> 3\u001b[0;31m     \u001b[0mcomics\u001b[0m\u001b[0;34m[\u001b[0m\u001b[0mdata\u001b[0m\u001b[0;34m]\u001b[0m \u001b[0;34m=\u001b[0m \u001b[0mdata\u001b[0m\u001b[0;34m\u001b[0m\u001b[0;34m\u001b[0m\u001b[0m\n\u001b[0m\u001b[1;32m      4\u001b[0m \u001b[0mprint\u001b[0m\u001b[0;34m(\u001b[0m\u001b[0mcomics\u001b[0m\u001b[0;34m[\u001b[0m\u001b[0;34m'title'\u001b[0m\u001b[0;34m]\u001b[0m\u001b[0;34m)\u001b[0m\u001b[0;34m\u001b[0m\u001b[0;34m\u001b[0m\u001b[0m\n",
      "\u001b[0;31mTypeError\u001b[0m: unhashable type: 'list'"
     ]
    }
   ],
   "source": [
    "comics = {}\n",
    "for data in datas:\n",
    "    if len(data)>=4:\n",
    "        key,value = data[0]\n",
    "    comics[data] = data\n",
    "print(comics['title'])"
   ]
  },
  {
   "cell_type": "code",
   "execution_count": 18,
   "metadata": {
    "collapsed": true
   },
   "outputs": [
    {
     "ename": "IndexError",
     "evalue": "list index out of range",
     "output_type": "error",
     "traceback": [
      "\u001b[0;31m------------------------------------------------------------------------\u001b[0m",
      "\u001b[0;31mIndexError\u001b[0m                             Traceback (most recent call last)",
      "\u001b[0;32m<ipython-input-18-cfdd549cc93a>\u001b[0m in \u001b[0;36m<module>\u001b[0;34m\u001b[0m\n\u001b[1;32m      5\u001b[0m         \u001b[0mcontext\u001b[0m\u001b[0;34m[\u001b[0m\u001b[0;34m'title'\u001b[0m\u001b[0;34m,\u001b[0m\u001b[0;34m'new_update'\u001b[0m\u001b[0;34m,\u001b[0m\u001b[0;34m'comic_url'\u001b[0m\u001b[0;34m,\u001b[0m\u001b[0;34m'img_url'\u001b[0m\u001b[0;34m]\u001b[0m \u001b[0;34m=\u001b[0m \u001b[0mdata\u001b[0m\u001b[0;34m[\u001b[0m\u001b[0mi\u001b[0m\u001b[0;34m]\u001b[0m\u001b[0;34m[\u001b[0m\u001b[0mi\u001b[0m\u001b[0;34m]\u001b[0m\u001b[0;34m\u001b[0m\u001b[0;34m\u001b[0m\u001b[0m\n\u001b[1;32m      6\u001b[0m     \u001b[0mprint\u001b[0m\u001b[0;34m(\u001b[0m\u001b[0mcontext\u001b[0m\u001b[0;34m)\u001b[0m\u001b[0;34m\u001b[0m\u001b[0;34m\u001b[0m\u001b[0m\n\u001b[0;32m----> 7\u001b[0;31m \u001b[0mindex\u001b[0m\u001b[0;34m(\u001b[0m\u001b[0;34m)\u001b[0m\u001b[0;34m\u001b[0m\u001b[0;34m\u001b[0m\u001b[0m\n\u001b[0m",
      "\u001b[0;32m<ipython-input-18-cfdd549cc93a>\u001b[0m in \u001b[0;36mindex\u001b[0;34m()\u001b[0m\n\u001b[1;32m      3\u001b[0m     \u001b[0mcontext\u001b[0m \u001b[0;34m=\u001b[0m \u001b[0;34m{\u001b[0m\u001b[0;34m}\u001b[0m\u001b[0;34m\u001b[0m\u001b[0;34m\u001b[0m\u001b[0m\n\u001b[1;32m      4\u001b[0m     \u001b[0;32mfor\u001b[0m \u001b[0mi\u001b[0m\u001b[0;34m,\u001b[0m\u001b[0mdata\u001b[0m \u001b[0;32min\u001b[0m \u001b[0menumerate\u001b[0m\u001b[0;34m(\u001b[0m\u001b[0mdatas\u001b[0m\u001b[0;34m)\u001b[0m\u001b[0;34m:\u001b[0m\u001b[0;34m\u001b[0m\u001b[0;34m\u001b[0m\u001b[0m\n\u001b[0;32m----> 5\u001b[0;31m         \u001b[0mcontext\u001b[0m\u001b[0;34m[\u001b[0m\u001b[0;34m'title'\u001b[0m\u001b[0;34m,\u001b[0m\u001b[0;34m'new_update'\u001b[0m\u001b[0;34m,\u001b[0m\u001b[0;34m'comic_url'\u001b[0m\u001b[0;34m,\u001b[0m\u001b[0;34m'img_url'\u001b[0m\u001b[0;34m]\u001b[0m \u001b[0;34m=\u001b[0m \u001b[0mdata\u001b[0m\u001b[0;34m[\u001b[0m\u001b[0mi\u001b[0m\u001b[0;34m]\u001b[0m\u001b[0;34m[\u001b[0m\u001b[0mi\u001b[0m\u001b[0;34m]\u001b[0m\u001b[0;34m\u001b[0m\u001b[0;34m\u001b[0m\u001b[0m\n\u001b[0m\u001b[1;32m      6\u001b[0m     \u001b[0mprint\u001b[0m\u001b[0;34m(\u001b[0m\u001b[0mcontext\u001b[0m\u001b[0;34m)\u001b[0m\u001b[0;34m\u001b[0m\u001b[0;34m\u001b[0m\u001b[0m\n\u001b[1;32m      7\u001b[0m \u001b[0mindex\u001b[0m\u001b[0;34m(\u001b[0m\u001b[0;34m)\u001b[0m\u001b[0;34m\u001b[0m\u001b[0;34m\u001b[0m\u001b[0m\n",
      "\u001b[0;31mIndexError\u001b[0m: list index out of range"
     ]
    }
   ],
   "source": [
    "def index():\n",
    "    datas = quick_pick_comic(url)\n",
    "    context = {}\n",
    "    for i,data in enumerate(datas):\n",
    "        context['title','new_update','comic_url','img_url'] = data[i][i]\n",
    "    print(context)\n",
    "index()"
   ]
  },
  {
   "cell_type": "code",
   "execution_count": 4,
   "metadata": {},
   "outputs": [
    {
     "name": "stdout",
     "output_type": "stream",
     "text": [
      "請輸入名稱:咒術\n"
     ]
    }
   ],
   "source": [
    "api_url = 'https://www.manhuaren.com/search?title=%E5%92%92%E8%A1%93&language=1'\n",
    "search_input = input('請輸入名稱:')\n",
    "form_data = {\n",
    "        'title':f'{search_input}',\n",
    "        'language':1\n",
    "    }\n",
    "soup1 = getSoup(api_url,form_data)\n"
   ]
  },
  {
   "cell_type": "code",
   "execution_count": 6,
   "metadata": {},
   "outputs": [],
   "source": [
    "content = soup1.find('ul',class_='book-list').find_all('li')"
   ]
  },
  {
   "cell_type": "code",
   "execution_count": 7,
   "metadata": {},
   "outputs": [
    {
     "data": {
      "text/plain": [
       "'咒术回战'"
      ]
     },
     "execution_count": 7,
     "metadata": {},
     "output_type": "execute_result"
    }
   ],
   "source": [
    "title =[title.text.strip() for title in content[0]][3].split()[0]\n",
    "title"
   ]
  },
  {
   "cell_type": "code",
   "execution_count": 8,
   "metadata": {},
   "outputs": [
    {
     "data": {
      "text/plain": [
       "'漫画《咒术回战》是由新锐漫画家芥见下下所作的少年漫画作品，讲述的是拥有超人般身体能力的男子高中生虎杖悠仁的黑暗幻想故事。因为某种理由，想要每天17点之前回家的虎杖悠仁来到了不强制出席的灵异现象研究会，享受着悠闲的活动。这样的某一天，来学校寻找被封印的诅咒之物的青年伏黒恵出现在了虎杖的面前……'"
      ]
     },
     "execution_count": 8,
     "metadata": {},
     "output_type": "execute_result"
    }
   ],
   "source": [
    "inner_content = [inner_content.text.strip() for inner_content in content[0]][3].split()[1]\n",
    "inner_content"
   ]
  },
  {
   "cell_type": "code",
   "execution_count": 9,
   "metadata": {},
   "outputs": [
    {
     "data": {
      "text/plain": [
       "['少年热血', '科幻魔幻']"
      ]
     },
     "execution_count": 9,
     "metadata": {},
     "output_type": "execute_result"
    }
   ],
   "source": [
    "tags = [tag.text for tag in content[0].find_all('span')][:-1]\n",
    "tags"
   ]
  },
  {
   "cell_type": "code",
   "execution_count": 10,
   "metadata": {},
   "outputs": [
    {
     "data": {
      "text/plain": [
       "'连载中'"
      ]
     },
     "execution_count": 10,
     "metadata": {},
     "output_type": "execute_result"
    }
   ],
   "source": [
    "online=[online.text for online in content[0].find_all('span')][-1]\n",
    "online"
   ]
  },
  {
   "cell_type": "code",
   "execution_count": 17,
   "metadata": {},
   "outputs": [
    {
     "data": {
      "text/plain": [
       "'https://www.manhuaren.com/manhua-zhoushuhuizhan/'"
      ]
     },
     "execution_count": 17,
     "metadata": {},
     "output_type": "execute_result"
    }
   ],
   "source": [
    "comic_url='https://www.manhuaren.com'+content[0].find('a').get('href')\n",
    "#https://www.manhuaren.com/manhua-zhoushuhuizhan/\n",
    "comic_url"
   ]
  },
  {
   "cell_type": "code",
   "execution_count": 19,
   "metadata": {},
   "outputs": [
    {
     "data": {
      "text/plain": [
       "'https://mhfm1us.cdndm5.com/42/41957/20190701151032_180x240_19.jpg'"
      ]
     },
     "execution_count": 19,
     "metadata": {},
     "output_type": "execute_result"
    }
   ],
   "source": [
    "img_url = content[0].find('img').get('src')\n",
    "img_url"
   ]
  },
  {
   "cell_type": "code",
   "execution_count": 8,
   "metadata": {},
   "outputs": [],
   "source": [
    "def search_comic():\n",
    "    datas =[]\n",
    "    api_url = 'https://www.manhuaren.com/search?'\n",
    "    search_input = input('請輸入名稱:')\n",
    "    form_data = {\n",
    "        'title':f'{search_input}',\n",
    "        'language':1\n",
    "    }\n",
    "    soup = getSoup(api_url,form_data)\n",
    "    if soup != None:\n",
    "        content = soup.find('ul',class_='book-list').find_all('li')\n",
    "    try:\n",
    "        for comic in content:\n",
    "            title =[title.text.strip() for title in comic][3].split()[0]\n",
    "            inner_content = [inner_content.text.strip() for inner_content in comic][3].split()[1]\n",
    "            tags = [tag.text for tag in comic.find_all('span')][:-1]\n",
    "            online=[online.text for online in comic.find_all('span')][-1]\n",
    "            comic_url='https://www.manhuaren.com'+comic.find('a').get('href')\n",
    "            img_url = comic.find('img').get('src')\n",
    "            datas.append([title,inner_content,tags,online,comic_url,img_url])\n",
    "    except Exception as e:\n",
    "        print(e)\n",
    "    \n",
    "    return datas"
   ]
  },
  {
   "cell_type": "code",
   "execution_count": 9,
   "metadata": {},
   "outputs": [
    {
     "name": "stdout",
     "output_type": "stream",
     "text": [
      "請輸入名稱:火影忍者\n"
     ]
    },
    {
     "data": {
      "text/plain": [
       "[['火影忍者-者之书',\n",
       "  '火影忍者-者之书漫画',\n",
       "  ['少年热血', '武侠格斗'],\n",
       "  '连载中',\n",
       "  'https://www.manhuaren.com/manhua-huoyingrenzhe-zhezhishu/',\n",
       "  'https://mhfm5us.cdndm5.com/7/6491/20191212100630_180x240_14.jpg'],\n",
       " ['火影忍者',\n",
       "  '从小身上封印着邪恶的九尾妖狐，无父无母的鸣人受尽了村人的冷落，但是他却不知道原因，只是拼命用各种恶作剧试图吸引大家的注意力，人们却反而更远离他。好在还是有依卡鲁老师关心他，鸣人的性格才没有变得扭曲，他总是干劲十足，嘻嘻哈哈，超级乐观。为了让更多的人认可自己，鸣人的目标是——成为第五代火影！这可是很高的目标哦，火影是世上最强的五位忍者之一的封号，也是木叶忍者村的首领。鸣人可不管，对于自己终有一天能成为火影，他可是超级自信的哦。努力吧，鸣人！',\n",
       "  ['少年热血'],\n",
       "  '已完结',\n",
       "  'https://www.manhuaren.com/manhua-huoyingrenzhe-naruto/',\n",
       "  'https://mhfm6us.cdndm5.com/1/444/20181129142416_180x240_30.jpg'],\n",
       " ['天蓝色的展开',\n",
       "  '欢迎观看天蓝色的展开漫画：火影忍者同人漫画',\n",
       "  ['少女爱情', '东方同人'],\n",
       "  '已完结',\n",
       "  'https://www.manhuaren.com/manhua-tianlansedezhankai/',\n",
       "  'https://mhfm1us.cdndm5.com/34/33959/20161129110651_180x240_25.jpg'],\n",
       " ['宇智波佐助的写轮眼传',\n",
       "  '佐助写轮眼传漫画',\n",
       "  ['少年热血'],\n",
       "  '连载中',\n",
       "  'https://www.manhuaren.com/manhua-zuozhuxielunyanzhuan/',\n",
       "  'https://mhfm3us.cdndm5.com/17/16464/20190318105212_180x240_27.jpg'],\n",
       " ['与你的未来',\n",
       "  '欢迎观看与你的未来漫画：火影忍者“虐狗（划掉）”同人漫画，太治愈了！大家一定要看！',\n",
       "  ['少女爱情', '东方同人'],\n",
       "  '已完结',\n",
       "  'https://www.manhuaren.com/manhua-yunideweilai/',\n",
       "  'https://mhfm1us.cdndm5.com/35/34062/20161208111906_180x240_18.jpg'],\n",
       " ['九尾变成妹了',\n",
       "  '鸣人一觉醒来，九喇嘛竟然与他分离，变成了可爱的长发萝莉！？',\n",
       "  ['幽默爆笑'],\n",
       "  '连载中',\n",
       "  'https://www.manhuaren.com/manhua-jiuweibianchengmeile/',\n",
       "  'https://mhfm4us.cdndm5.com/49/48700/20190318145301_180x240_20.jpg'],\n",
       " ['御影忍者黑狼传',\n",
       "  '魔力枯竭,布满沙海与荒野的红色星球“深红”,当天晚上出现“苍蓝幻星”时,迈入战乱时代。在此,蠢蠢欲动的是,为数众多的谋略与钢之巨人“钢机兵”,以及屠杀他们的人“勇者”。时知圣历0795年,某些勇者们出发前往最北之地,揭开了故事的序幕。',\n",
       "  ['科幻魔幻'],\n",
       "  '连载中',\n",
       "  'https://www.manhuaren.com/manhua-yuyingrenzheheilangchuan/',\n",
       "  'https://mhfm3us.cdndm5.com/6/5264/5264_b.jpg'],\n",
       " ['忍者神龟2007：电影背景刊',\n",
       "  '本期讲述拉斐尔如何获得守夜者服装的故事',\n",
       "  ['武侠格斗', '科幻魔幻'],\n",
       "  '已完结',\n",
       "  'https://www.manhuaren.com/manhua-renzheshengui-2007-dianyingbeijingkan/',\n",
       "  'https://mhfm7us.cdndm5.com/48/47870/20190209152900_180x240_17.jpg'],\n",
       " ['忍者神龟',\n",
       "  '此为IDW公司在2011年购买忍者神龟漫画版权后的重启之作，与原著v1-v4的世界观和设定有较大不同，故事更加紧凑，适合21世纪的审美与品位，如果不愿把原著从头读起的童鞋可以从这部漫画开始了解忍者神龟！',\n",
       "  ['武侠格斗', '科幻魔幻'],\n",
       "  '连载中',\n",
       "  'https://www.manhuaren.com/manhua-renzheshengui/',\n",
       "  'https://mhfm9us.cdndm5.com/19/18320/20150507104112_180x240_30.jpg'],\n",
       " ['忍者同居',\n",
       "  '甲贺的忍者和伊贺的忍者同居的故事。',\n",
       "  ['幽默爆笑'],\n",
       "  '已完结',\n",
       "  'https://www.manhuaren.com/manhua-renzhetongju/',\n",
       "  'https://mhfm7us.cdndm5.com/70/69132/20210525225250_180x240_17.jpg'],\n",
       " ['乐高幻影忍者：加满都',\n",
       "  '乐高幻影忍者官方的加满都小短篇。讲了加满都大人在s10后找寻自我的故事（啊？）。',\n",
       "  ['科幻魔幻'],\n",
       "  '连载中',\n",
       "  'https://www.manhuaren.com/manhua-legaohuanyingrenzhe-jiamandu/',\n",
       "  'https://mhfm2us.cdndm5.com/84/83429/20230117105108_180x240_18.jpg'],\n",
       " ['忍者敌',\n",
       "  '欢迎观看忍者敌漫画',\n",
       "  ['武侠格斗'],\n",
       "  '连载中',\n",
       "  'https://www.manhuaren.com/manhua-renzhedi/',\n",
       "  'https://mhfm5us.cdndm5.com/34/33648/20161101232051_180x240_17.jpg'],\n",
       " ['loli忍者',\n",
       "  'loli忍者漫画',\n",
       "  [],\n",
       "  '已完结',\n",
       "  'https://www.manhuaren.com/manhua-loli-renzhe/',\n",
       "  'https://mhfm3us.cdndm5.com/7/6656/6656_b.jpg'],\n",
       " ['忍者k',\n",
       "  '欢迎观看忍者k漫画：勇士宇宙重启后Ninjak',\n",
       "  ['武侠格斗'],\n",
       "  '连载中',\n",
       "  'https://www.manhuaren.com/manhua-renzhe-k/',\n",
       "  'https://mhfm7us.cdndm5.com/34/33868/20161121101946_180x240_28.jpg'],\n",
       " ['小忍者',\n",
       "  '欢乐的漫画，满满的童年回忆',\n",
       "  ['幽默爆笑'],\n",
       "  '连载中',\n",
       "  'https://www.manhuaren.com/manhua-xiaorenzhe/',\n",
       "  'https://mhfm4us.cdndm5.com/32/31818/20160913133827_180x240_32.jpg'],\n",
       " ['信长的忍者',\n",
       "  '一五五五年--日本时值战国的时代,一位无名的青年内心怀抱着远大的梦想.被大众人称傻蛋的、没错...正是织田信长。一位憧憬着这样青年的少女被信长的梦想所魅惑满面笑容这样宣言「我一定要成为信长大人的忍者!」。目标只有一个、唯有天下步武!!',\n",
       "  ['幽默爆笑'],\n",
       "  '连载中',\n",
       "  'https://www.manhuaren.com/manhua-xinchangderenzhe/',\n",
       "  'https://mhfm4us.cdndm5.com/10/9986/9986_c_.jpg'],\n",
       " ['忍者同居',\n",
       "  '17岁的美少女妙和认真的公司职员小太郎。看似幸福的两人有着谁也无法说出的秘密——伊贺·甲贺的竞争对手忍者偷偷地过着同居生活，悠闲的爱情喜剧！',\n",
       "  [],\n",
       "  '连载中',\n",
       "  'https://www.manhuaren.com/manhua-renzhetongju1/',\n",
       "  'https://mhfm2us.cdndm5.com/84/83468/20230119181714_180x240_24.jpg'],\n",
       " ['忍者少女',\n",
       "  '忍者少女漫画',\n",
       "  ['武侠格斗'],\n",
       "  '连载中',\n",
       "  'https://www.manhuaren.com/manhua-renzheshaonv/',\n",
       "  'https://mhfm8us.cdndm5.com/2/1480/1480_b.jpg'],\n",
       " ['忍者',\n",
       "  'revival',\n",
       "  ['少女爱情'],\n",
       "  '已完结',\n",
       "  'https://www.manhuaren.com/manhua-renzhe-revival-of-the-dead/',\n",
       "  'https://mhfm6us.cdndm5.com/16/15719/20190425160040_180x240_26.jpg'],\n",
       " ['害羞忍者少年',\n",
       "  '奧家世世代代都是侍奉御城家的上忍家族。某天,紫信的母親突然派才藏到聖德學園保護紫信,究竟是為了甚麼？而才藏一進到學園,紫信就遭到襲擊,自己也中了敵人的麻醉藥……難道,這跟他進學園的目的有關？',\n",
       "  ['少女爱情'],\n",
       "  '连载中',\n",
       "  'https://www.manhuaren.com/manhua-haixiurenzheshaonian/',\n",
       "  'https://mhfm8us.cdndm5.com/1/472/20180906133714_180x240_17.jpg'],\n",
       " ['忍者之花',\n",
       "  '霜里麻里是个高一学生。',\n",
       "  [],\n",
       "  '已完结',\n",
       "  'https://www.manhuaren.com/manhua-renzhezhihua/',\n",
       "  'https://mhfm5us.cdndm5.com/81/80174/20220813230117_180x240_22.jpg'],\n",
       " ['黑色忍者',\n",
       "  '黑色忍者漫画',\n",
       "  ['少年热血', '武侠格斗'],\n",
       "  '连载中',\n",
       "  'https://www.manhuaren.com/manhua-heiserenzhe/',\n",
       "  'https://mhfm2us.cdndm5.com/51/50524/20190529144413_180x240_25.jpg']]"
      ]
     },
     "execution_count": 9,
     "metadata": {},
     "output_type": "execute_result"
    }
   ],
   "source": [
    "search_comic()"
   ]
  },
  {
   "cell_type": "code",
   "execution_count": null,
   "metadata": {},
   "outputs": [],
   "source": []
  }
 ],
 "metadata": {
  "kernelspec": {
   "display_name": "Python 3",
   "language": "python",
   "name": "python3"
  },
  "language_info": {
   "codemirror_mode": {
    "name": "ipython",
    "version": 3
   },
   "file_extension": ".py",
   "mimetype": "text/x-python",
   "name": "python",
   "nbconvert_exporter": "python",
   "pygments_lexer": "ipython3",
   "version": "3.8.3"
  }
 },
 "nbformat": 4,
 "nbformat_minor": 4
}
